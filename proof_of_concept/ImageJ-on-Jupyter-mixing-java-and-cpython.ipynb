{
 "cells": [
  {
   "cell_type": "markdown",
   "metadata": {},
   "source": [
    "![logo](../pics/imageJUPYTER.png)"
   ]
  },
  {
   "cell_type": "markdown",
   "metadata": {},
   "source": [
    "# ImageJ on Jupyter"
   ]
  },
  {
   "cell_type": "markdown",
   "metadata": {},
   "source": [
    "This notebook explores how to mix the usage of *python* and *ImageJ*. It uses a beakerx-groovy kernel. [Beakerx](http://beakerx.com/) allows to use python-cells, allowing access to python libraries like [scipy, numpy and matplotlib](https://www.scipy.org/). [Groovy](http://www.groovy-lang.org/) allow to access the ImageJ library. Data can be exchanged between the groovy and the python cells via the [auto-translation](http://nbviewer.jupyter.org/github/twosigma/beakerx/blob/master/doc/groovy/GeneralAutotranslation.ipynb) provided by beakerx."
   ]
  },
  {
   "cell_type": "markdown",
   "metadata": {},
   "source": [
    "## Important Note"
   ]
  },
  {
   "cell_type": "markdown",
   "metadata": {},
   "source": [
    "The way to use python with ImageJ proposed here might not be the best possible way. \n",
    "* You will not be able to use ['SciJava @Parameter annotations'](https://imagej.net/Script_Parameters). \n",
    "* You will often have to convert data manually when accessing it from cells using different languages. \n",
    "\n",
    "Before you decide to follow the example of this notebook please check out:\n",
    "* [analysis-with-imagej-and-visualization-in-the-jupyter-notebook](https://forum.image.sc/t/analysis-with-imagej-and-visualization-in-the-jupyter-notebook/11052) "
   ]
  },
  {
   "cell_type": "markdown",
   "metadata": {},
   "source": [
    "## Setting up the environment for ImageJ"
   ]
  },
  {
   "cell_type": "markdown",
   "metadata": {},
   "source": [
    "Using the beakerx-magic we add the jar-files from the FIJI installation, including those of bioformats, to the classpath. Change the class to match the location of FIJI on your machine!"
   ]
  },
  {
   "cell_type": "code",
   "execution_count": null,
   "metadata": {},
   "outputs": [],
   "source": [
    "%classpath add jar ../Fiji.app/jars/*\n",
    "%classpath add jar ../Fiji.app/jars/bio-formats/*"
   ]
  },
  {
   "cell_type": "markdown",
   "metadata": {},
   "source": [
    "My FIJI installation contains [simpleitk](https://imagej.net/ITK), the LD_LIBRARY_PATH must contain the folder containing the needed native library, otherwise the initialization of ImageJ will fail.\n",
    "I'm not sure that the cell below works as expected, do I finished by copying the `libSimpleITKJava.so` to a folder already contained in the LD_LIBRARY_PATH"
   ]
  },
  {
   "cell_type": "code",
   "execution_count": null,
   "metadata": {},
   "outputs": [],
   "source": [
    "currentPath = System.getProperty(\"java.library.path\")\n",
    "newPath = currentPath + \":../Fiji.app/lib/linux64\"\n",
    "System.setProperty( \"java.library.path\", newPath )"
   ]
  },
  {
   "cell_type": "markdown",
   "metadata": {},
   "source": [
    "## ImageJ2"
   ]
  },
  {
   "cell_type": "markdown",
   "metadata": {},
   "source": [
    "Now we create an ImageJ2 instance:"
   ]
  },
  {
   "cell_type": "code",
   "execution_count": null,
   "metadata": {
    "scrolled": true
   },
   "outputs": [],
   "source": [
    "import net.imagej.ImageJ\n",
    "ij2 = new ImageJ()"
   ]
  },
  {
   "cell_type": "markdown",
   "metadata": {},
   "source": [
    "We use the ImageJ2 instance ij2 to write the obligatory `Hello World`."
   ]
  },
  {
   "cell_type": "code",
   "execution_count": null,
   "metadata": {},
   "outputs": [],
   "source": [
    "ij2.log().info(\"Hello ImageJ2! Welcome on Jupyter!\")"
   ]
  },
  {
   "cell_type": "markdown",
   "metadata": {},
   "source": [
    "Now let us open an image via ImageJ2. In order to easily display the image, we wrap it in an ImageJ1 ImagePlus and get the BufferedImage from it."
   ]
  },
  {
   "cell_type": "code",
   "execution_count": null,
   "metadata": {
    "scrolled": true
   },
   "outputs": [],
   "source": [
    "import net.imglib2.img.display.imagej.ImageJFunctions\n",
    "\n",
    "image = ij2.io().open(\"http://wsr.imagej.net/images/lena-std.tif\")\n",
    "ip = ImageJFunctions.wrap(image, \"lena\")\n",
    "Image(ip.getBufferedImage())"
   ]
  },
  {
   "cell_type": "markdown",
   "metadata": {},
   "source": [
    "We can also open a view on the image in its own ImageJ window. This only works when we are running in an environment with a graphical user interface, i.e. not with mybinder."
   ]
  },
  {
   "cell_type": "code",
   "execution_count": null,
   "metadata": {},
   "outputs": [],
   "source": [
    "import net.imglib2.img.display.imagej.ImageJFunctions\n",
    "ImageJFunctions.show(image)"
   ]
  },
  {
   "cell_type": "markdown",
   "metadata": {},
   "source": [
    "## ImageJ1"
   ]
  },
  {
   "cell_type": "markdown",
   "metadata": {},
   "source": [
    "Now let us say hello to ImageJ1."
   ]
  },
  {
   "cell_type": "code",
   "execution_count": null,
   "metadata": {},
   "outputs": [],
   "source": [
    "ij1 = new ij.ImageJ();\n",
    "ij.IJ.log(\"Hello ImageJ1\");"
   ]
  },
  {
   "cell_type": "markdown",
   "metadata": {},
   "source": [
    "We open an image via ImageJ1 and display it in the notebook."
   ]
  },
  {
   "cell_type": "code",
   "execution_count": null,
   "metadata": {},
   "outputs": [],
   "source": [
    "image =  ij.IJ.openImage(\"http://wsr.imagej.net/images/boats.gif\");\n",
    "bufferedImage = image.getBufferedImage();\n",
    "Image(bufferedImage)"
   ]
  },
  {
   "cell_type": "markdown",
   "metadata": {},
   "source": [
    "In order to use the image data in a python cell later, we copy it into attributes of the beakerx object."
   ]
  },
  {
   "cell_type": "markdown",
   "metadata": {},
   "source": [
    "## Transfering data"
   ]
  },
  {
   "cell_type": "code",
   "execution_count": null,
   "metadata": {},
   "outputs": [],
   "source": [
    "beakerx.width = image.getWidth()\n",
    "beakerx.height = image.getHeight()\n",
    "beakerx.pixels = image.getProcessor().getPixels()\n",
    "print([beakerx.width, beakerx.height])\n",
    "Collections.min(beakerx.pixels)"
   ]
  },
  {
   "cell_type": "markdown",
   "metadata": {},
   "source": [
    "## Python"
   ]
  },
  {
   "cell_type": "markdown",
   "metadata": {},
   "source": [
    "Say hello to python. The beakerx magic `python` allows to create a cell excuting python code."
   ]
  },
  {
   "cell_type": "code",
   "execution_count": null,
   "metadata": {},
   "outputs": [],
   "source": [
    "%%python\n",
    "print(\"Hello python!\")"
   ]
  },
  {
   "cell_type": "markdown",
   "metadata": {},
   "source": [
    "We import numpy and matplotlib. We access the image data via the attributes of the beakerx object, which we set before in a groovy cell. The pixel values will be interpreted as signed bytes, so we convert them back to `uint8`. The pixel values come in a linear list from which we create a numpy array. We shape the linear array to 2D. Note the order of the dimensions. \n",
    "The `amin` function shows that the smallest value in the image is positive (3).\n",
    "Finally we use matplotlib to display the image in the notebook."
   ]
  },
  {
   "cell_type": "code",
   "execution_count": null,
   "metadata": {},
   "outputs": [],
   "source": [
    "%%python\n",
    "import numpy\n",
    "from beakerx.object import beakerx\n",
    "from matplotlib import pyplot as plt\n",
    "\n",
    "imArray = numpy.array(beakerx.pixels, dtype='uint8')\n",
    "imArray = numpy.reshape(imArray, (beakerx.height, beakerx.width)) \n",
    "print(imArray)\n",
    "print(numpy.amin(imArray))\n",
    "plt.figure(figsize=(14, 10))\n",
    "plt.imshow(imArray, interpolation='none', cmap='gray')\n",
    "plt.show()"
   ]
  },
  {
   "cell_type": "markdown",
   "metadata": {},
   "source": [
    "If after running the cell above the image does not show, run it again or reduce the size of the figure in the command `plt.figure(figsize=(14, 10))`"
   ]
  },
  {
   "cell_type": "markdown",
   "metadata": {},
   "source": [
    "Now let's modify the image in python and then display it with ImageJ2 again. Normally the 2d matrix would become a 2D ArrayList in groovy, but we flatten it so that we can directly rebuild an image in ImageJ from a linear ArrayList converted to a byte-array."
   ]
  },
  {
   "cell_type": "code",
   "execution_count": null,
   "metadata": {},
   "outputs": [],
   "source": [
    "%%python\n",
    "max = numpy.iinfo(imArray.dtype).max\n",
    "invertedImage = max - imArray\n",
    "plt.imshow(invertedImage, interpolation='none', cmap='gray')\n",
    "beakerx.invertedPixels = invertedImage.flatten()\n",
    "print(beakerx.invertedPixels)"
   ]
  },
  {
   "cell_type": "markdown",
   "metadata": {},
   "source": [
    "## Back to groovy and ImageJ"
   ]
  },
  {
   "cell_type": "code",
   "execution_count": null,
   "metadata": {},
   "outputs": [],
   "source": [
    "import ij.process.ByteProcessor\n",
    "pixels = beakerx.invertedPixels\n",
    "imp = new ByteProcessor(beakerx.width, beakerx.height)\n",
    "imp.setPixels((byte[])pixels.toArray())\n",
    "ip = new ij.ImagePlus(\"boats\", imp)\n",
    "Image(ip.getBufferedImage())"
   ]
  }
 ],
 "metadata": {
  "kernelspec": {
   "display_name": "Groovy",
   "language": "groovy",
   "name": "groovy"
  },
  "language_info": {
   "codemirror_mode": "groovy",
   "file_extension": ".groovy",
   "mimetype": "",
   "name": "Groovy",
   "nbconverter_exporter": "",
   "version": "2.4.3"
  },
  "toc": {
   "base_numbering": 1,
   "nav_menu": {},
   "number_sections": false,
   "sideBar": false,
   "skip_h1_title": false,
   "title_cell": "Table of Contents",
   "title_sidebar": "Contents",
   "toc_cell": false,
   "toc_position": {},
   "toc_section_display": false,
   "toc_window_display": false
  }
 },
 "nbformat": 4,
 "nbformat_minor": 2
}
