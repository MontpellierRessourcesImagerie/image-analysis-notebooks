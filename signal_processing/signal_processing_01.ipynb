{
 "cells": [
  {
   "cell_type": "markdown",
   "metadata": {},
   "source": [
    "[Table of Contents](contents.ipyn) | Next: [Reducing Dimensonality](signal_processing_02.ipynb)"
   ]
  },
  {
   "cell_type": "markdown",
   "metadata": {},
   "source": [
    "# Signal processing for bio-image analysts.\n",
    "\n",
    "## Introduction\n",
    "\n",
    "This series of notebooks gives an introduction to signal processing from the perspective of a bio-image analyst. A bio-image analyst must have knowledge about different fields: biology, microscopy, physics, statistics, image analysis and programming. Why should he care about signal processing beyond the point of using methods already implemented in image-analysis software like FIJI <cite data-cite=\"5920019/W7D9USKL\"></cite> , Icy <cite data-cite=\"5920019/PNU3GVQ2\"></cite> or Cellprofiler <cite data-cite=\"5920019/MC2N69B8\"></cite>? \n",
    "\n",
    "The bio-image analyst finds and automates solutions for image analysis problems. While in the past ad hoc solutions could often be used to do the image analysis for one given biological experiment, this is about to change. The advent of automated microscopy and the growing image data acquired, creates a need for more robust solutions. A robust solution means one that is less dependent on the concrete characteristics of a set of images acquired in the same imaging modality. It should be usable for a whole class of analysis problems not only to one given instance without the need of tuning a large number of parameters. The theory of signal processing provides the necessary basis for creating robust image analysis solutions. \n",
    "\n",
    "The book ''The Scientist and Engineer's Guide to Digital Signal Processing'' <cite data-cite=\"5920019/9A2YZAXB\"></cite> provides an introduction that allows engineers to understand and use DSP without going into a level of details more useful for doing research in the field. Although images are used as example of signals in the book, the focus is more on electrical engineering and telecomunication. These notebooks will follow the book but use signals that are images and applications in bio-image analysis."
   ]
  },
  {
   "cell_type": "markdown",
   "metadata": {},
   "source": [
    "## What is an image?\n",
    "\n",
    "We all deal with images in our daily lives. When we say ''an image'' we usally mean something we can see which has a close resemblance with a real or imaginary subject or scene. Although this is also true for images in the context of signal processing we need to be more precise for the purpose of image analysis. We consider an image as a number of measurements (samples) that have a close spatial relationship and that are taken on the nodes of a regular 2 dimensional or 3 dimensional grid. "
   ]
  },
  {
   "cell_type": "code",
   "execution_count": null,
   "metadata": {},
   "outputs": [],
   "source": [
    "image =  ij.IJ.openImage(\"http://wsr.imagej.net/images/clown.jpg\")\n",
    "bufferedImage = image.getBufferedImage()\n",
    "Image(bufferedImage)"
   ]
  },
  {
   "cell_type": "markdown",
   "metadata": {},
   "source": [
    "Photo of a clown (sample image from ImageJ). "
   ]
  },
  {
   "cell_type": "code",
   "execution_count": null,
   "metadata": {
    "scrolled": true
   },
   "outputs": [],
   "source": [
    "image =  ij.IJ.openImage(\"http://wsr.imagej.net/images/hela-cells.zip\")\n",
    "bufferedImage = image.getBufferedImage()\n",
    "Image(bufferedImage)"
   ]
  },
  {
   "cell_type": "markdown",
   "metadata": {},
   "source": [
    "This is a 16-bits/channel composite color image of HeLa cells\n",
    "with red lysosomes, green mitochondria and blue nucleus. Image\n",
    "courtesy of Tony Collins (sample image from ImageJ)."
   ]
  },
  {
   "cell_type": "markdown",
   "metadata": {},
   "source": [
    "\"A signal is a description of how one parameter depends on another parameter\" <cite data-cite=\"5920019/9A2YZAXB\"></cite>. In the case of a two dimensional grayscale image one parameter is the position x,y and the other parameter the brightness b. X and y are called the independ variables and b the dependend variable. As already mentioned the image can have three spatial dimensions x,y and z. Such an image can for example be acquired by using optical sectioning using a widefield or confocal microscope. We can take a time series of images and add a temporal dimension t to the two or three spatial dimensions. We still call the time series an image. Finally we can use multipectral imaging to capture light in different ranges of wavelengths, adding multiple channels to the image. We do not restrict images to the measurement of light. The image can be created using x-rays, sound, electrons or other measurements as heat or the spatial distribution of the ph-value in the soil. \n",
    "\n",
    "While the independent (for example the position x, y, z) and dependent variable (for example brightness) can be continous in the pysical world, the measured signal must be discrete, since only a finite numer of samples can be taken with a finite number of values for each sample. The ccd (charge coupled device) in the digital camera or the photomultiplier tube used in confocal microscopy transforms the incoming light into an electric signal, that is fed into an analog-to-digital converter (ADC) which will quantize the continous values to integer numbers between 0 and 4096 (12-bit) or 0 and 65535 (16-bit). \n",
    "\n",
    "To summerize the above: an image is a discrete valued signal f[x,y,z,t,c] depending on discrete valued parameters x,y,z,t and c. To acquire the image an input signal for example the light reflected or transmitted by an object or the light emitted by an object in fluorescence microscopy is transformed into an output signal by passing the input signal through a system for example the microscope and the acquisition device, a digital camera or photomultiplier and the analog to digital converter.   \n",
    "\n",
    "We must be careful not to confuse a number of things: \n",
    "* the object of which we will take an image\n",
    "* the input signal, produced by some process involving the object\n",
    "* the output signal formed from the input signal by passing it through some kind of system\n",
    "* the rendering of the output signal on a computer screen\n",
    "* our visual perception of the rendered image\n"
   ]
  },
  {
   "cell_type": "markdown",
   "metadata": {},
   "source": [
    "[Table of Contents](contents.ipyn) | Next: [Reducing Dimensonality](signal_processing_02.ipynb)"
   ]
  },
  {
   "cell_type": "markdown",
   "metadata": {},
   "source": [
    "<div class=\"cite2c-biblio\"></div>"
   ]
  },
  {
   "cell_type": "code",
   "execution_count": 1,
   "metadata": {
    "init_cell": true
   },
   "outputs": [
    {
     "data": {
      "application/vnd.jupyter.widget-view+json": {
       "model_id": "4f86ef98-69cc-4539-9eea-c4e78f39237c",
       "version_major": 2,
       "version_minor": 0
      },
      "method": "display_data"
     },
     "metadata": {},
     "output_type": "display_data"
    },
    {
     "data": {
      "application/vnd.jupyter.widget-view+json": {
       "model_id": "aab8aa22-b319-4e95-9a91-a56697d33faf",
       "version_major": 2,
       "version_minor": 0
      },
      "method": "display_data"
     },
     "metadata": {},
     "output_type": "display_data"
    },
    {
     "data": {
      "text/plain": [
       "net.imagej.ImageJ@3ab622a9"
      ]
     },
     "execution_count": 1,
     "metadata": {},
     "output_type": "execute_result"
    }
   ],
   "source": [
    "%classpath add jar ../Fiji.app/jars/*\n",
    "%classpath add jar ../Fiji.app/jars/bio-formats/*\n",
    "currentPath = System.getProperty(\"java.library.path\")\n",
    "newPath = currentPath + \":../Fiji.app/lib/linux64\"\n",
    "System.setProperty( \"java.library.path\", newPath )\n",
    "import net.imagej.ImageJ\n",
    "ij2 = new ImageJ()"
   ]
  }
 ],
 "metadata": {
  "celltoolbar": "Initialization Cell",
  "cite2c": {
   "citations": {
    "5920019/9A2YZAXB": {
     "ISBN": "978-0-9660176-4-9 978-0-9660176-7-0 978-0-9660176-6-3",
     "author": [
      {
       "family": "Smith",
       "given": "Steven W"
      }
     ],
     "event-place": "San Diego (Calif.)",
     "id": "5920019/9A2YZAXB",
     "issued": {
      "year": 1999
     },
     "language": "English",
     "note": "OCLC: 493473234",
     "publisher": "California Technical Pub.",
     "publisher-place": "San Diego (Calif.)",
     "title": "The scientist and engineer's guide to digital signal processing",
     "type": "book"
    },
    "5920019/MC2N69B8": {
     "DOI": "10.2144/000112257",
     "abstract": "Careful visual examination of biological samples is quite powerful, but many visual analysis tasks done in the laboratory are repetitive, tedious, and subjective. Here we describe the use of the open-source software, CellProfiler, to automatically identify and measure a variety of biological objects in images. The applications demonstrated here include yeast colony counting and classifying, cell microarray annotation, yeast patch assays, mouse tumor quantification, wound healing assays, and tissue topology measurement. The software automatically identifies objects in digital images, counts them, and records a full spectrum of measurements for each object, including location within the image, size, shape, color intensity, degree of correlation between colors, texture (smoothness), and number of neighbors. Small numbers of images can be processed automatically on a personal computer and hundreds of thousands can be analyzed using a computing cluster. This free, easy-to-use software enables biologists to comprehensively and quantitatively address many questions that previously would have required custom programming, thereby facilitating discovery in a variety of biological fields of study.",
     "author": [
      {
       "family": "Lamprecht",
       "given": "Michael R."
      },
      {
       "family": "Sabatini",
       "given": "David M."
      },
      {
       "family": "Carpenter",
       "given": "Anne E."
      }
     ],
     "container-title": "BioTechniques",
     "container-title-short": "BioTechniques",
     "id": "5920019/MC2N69B8",
     "issue": "1",
     "issued": {
      "month": 1,
      "year": 2007
     },
     "journalAbbreviation": "BioTechniques",
     "language": "eng",
     "note": "PMID: 17269487",
     "page": "71-75",
     "page-first": "71",
     "shortTitle": "CellProfiler",
     "title": "CellProfiler: free, versatile software for automated biological image analysis",
     "title-short": "CellProfiler",
     "type": "article-journal",
     "volume": "42"
    },
    "5920019/PNU3GVQ2": {
     "DOI": "10.1038/nmeth.2075",
     "URL": "http://www.nature.com/articles/nmeth.2075",
     "accessed": {
      "day": 11,
      "month": 11,
      "year": 2018
     },
     "author": [
      {
       "family": "de Chaumont",
       "given": "Fabrice"
      },
      {
       "family": "Dallongeville",
       "given": "Stéphane"
      },
      {
       "family": "Chenouard",
       "given": "Nicolas"
      },
      {
       "family": "Hervé",
       "given": "Nicolas"
      },
      {
       "family": "Pop",
       "given": "Sorin"
      },
      {
       "family": "Provoost",
       "given": "Thomas"
      },
      {
       "family": "Meas-Yedid",
       "given": "Vannary"
      },
      {
       "family": "Pankajakshan",
       "given": "Praveen"
      },
      {
       "family": "Lecomte",
       "given": "Timothée"
      },
      {
       "family": "Le Montagner",
       "given": "Yoann"
      },
      {
       "family": "Lagache",
       "given": "Thibault"
      },
      {
       "family": "Dufour",
       "given": "Alexandre"
      },
      {
       "family": "Olivo-Marin",
       "given": "Jean-Christophe"
      }
     ],
     "container-title": "Nature Methods",
     "id": "5920019/PNU3GVQ2",
     "issue": "7",
     "issued": {
      "year": 2012
     },
     "language": "en",
     "page": "690-696",
     "page-first": "690",
     "shortTitle": "Icy",
     "title": "Icy: an open bioimage informatics platform for extended reproducible research",
     "title-short": "Icy",
     "type": "article-journal",
     "volume": "9"
    },
    "5920019/W7D9USKL": {
     "DOI": "10.1038/nmeth.2019",
     "URL": "http://www.nature.com/doifinder/10.1038/nmeth.2019",
     "accessed": {
      "day": 30,
      "month": 4,
      "year": 2013
     },
     "author": [
      {
       "family": "Schindelin",
       "given": "Johannes"
      },
      {
       "family": "Arganda-Carreras",
       "given": "Ignacio"
      },
      {
       "family": "Frise",
       "given": "Erwin"
      },
      {
       "family": "Kaynig",
       "given": "Verena"
      },
      {
       "family": "Longair",
       "given": "Mark"
      },
      {
       "family": "Pietzsch",
       "given": "Tobias"
      },
      {
       "family": "Preibisch",
       "given": "Stephan"
      },
      {
       "family": "Rueden",
       "given": "Curtis"
      },
      {
       "family": "Saalfeld",
       "given": "Stephan"
      },
      {
       "family": "Schmid",
       "given": "Benjamin"
      },
      {
       "family": "Tinevez",
       "given": "Jean-Yves"
      },
      {
       "family": "White",
       "given": "Daniel James"
      },
      {
       "family": "Hartenstein",
       "given": "Volker"
      },
      {
       "family": "Eliceiri",
       "given": "Kevin"
      },
      {
       "family": "Tomancak",
       "given": "Pavel"
      },
      {
       "family": "Cardona",
       "given": "Albert"
      }
     ],
     "container-title": "Nature Methods",
     "id": "5920019/W7D9USKL",
     "issue": "7",
     "issued": {
      "day": 28,
      "month": 6,
      "year": 2012
     },
     "page": "676-682",
     "page-first": "676",
     "shortTitle": "Fiji",
     "title": "Fiji: an open-source platform for biological-image analysis",
     "title-short": "Fiji",
     "type": "article-journal",
     "volume": "9"
    }
   }
  },
  "kernelspec": {
   "display_name": "Groovy",
   "language": "groovy",
   "name": "groovy"
  },
  "language_info": {
   "codemirror_mode": "groovy",
   "file_extension": ".groovy",
   "mimetype": "",
   "name": "Groovy",
   "nbconverter_exporter": "",
   "version": "2.4.3"
  },
  "toc": {
   "base_numbering": 1,
   "nav_menu": {},
   "number_sections": false,
   "sideBar": false,
   "skip_h1_title": false,
   "title_cell": "Table of Contents",
   "title_sidebar": "Contents",
   "toc_cell": false,
   "toc_position": {},
   "toc_section_display": false,
   "toc_window_display": false
  }
 },
 "nbformat": 4,
 "nbformat_minor": 2
}
