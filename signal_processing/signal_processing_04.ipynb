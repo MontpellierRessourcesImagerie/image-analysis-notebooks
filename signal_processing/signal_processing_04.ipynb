{
 "cells": [
  {
   "cell_type": "markdown",
   "metadata": {},
   "source": [
    "[Table of Contents](contents.ipynb) | Previous: [Profile plots](signal_processing_03.ipynb) | Next: [Estimation of the Signal-to-noise ratio](signal_processing_05.ipynb)"
   ]
  },
  {
   "cell_type": "markdown",
   "metadata": {},
   "source": [
    "# Signal processing for bio-image analysts.\n",
    "\n",
    "## Mean and standard deviation"
   ]
  },
  {
   "cell_type": "markdown",
   "metadata": {},
   "source": [
    "We use concepts from statistics and probability to characterize signals. The most basic characteristics of a general signal are the mean and the standard deviation. The mean is the average value of the signal and the standard deviation describes the mean deviation of the sample values from the average.\n",
    "\n",
    "To calculate the **mean** $\\mu$ we sum up all sample values and devide by their number. In the case of a 2-dimensional image with width N and height M:\n",
    "\n",
    "$$\\mu = \\dfrac{1}{N \\times M} \\sum\\limits_{\\substack{x=0\\\\y=0}}^{\\substack{N-1\\\\M-1}} f(x,y) $$\n",
    "\n",
    "Since we use all sample values $f_i$ of the image, we do not really care about their spatial distribution, so we can write:\n",
    "\n",
    "$$\\mu = \\dfrac{1}{N \\times M} \\sum\\limits_{i=0}^{N \\times M - 1} f_i $$\n",
    "\n",
    "To calculate the **standard deviation** $\\sigma$ we calculate for each sample its difference to the mean. We square the difference so that positive and negative differences will not equal each other out. We sum up all the squared differences and divide by the number of sample values n minus one. Using $n-1$ instead of $n$ is called Bessel's correction. It is used because we talk about the sample standard deviation and the sample mean which are estimations from a finite samle of the mean and standard deviation of the underlying process (or the population). By using $n$ we would underestimate the standard deviation for small sample sizes while the difference between using $n$ and $n-1$ becomes less important for large values of $n$.  \n",
    "\n",
    "$$ \\sigma = \\sqrt{\\dfrac{1}{N \\times M - 1} \\sum\\limits_{i=0}^{N \\times M - 1} (f_i - \\mu)^{2}} $$\n",
    "\n",
    "Note that $\\sigma^{2}$ is called the variation."
   ]
  },
  {
   "cell_type": "markdown",
   "metadata": {},
   "source": [
    "We will open an image and calculate the mean and standard deviation of the intensity values in the whole image."
   ]
  },
  {
   "cell_type": "code",
   "execution_count": null,
   "metadata": {
    "scrolled": true
   },
   "outputs": [],
   "source": [
    "%%groovy\n",
    "import net.imglib2.img.display.imagej.ImageJFunctions\n",
    "image = ij2.io().open(\"../data/BBBC026_v1_images/ADSASS092408-GHAD2-D6-20x_A07_s6_w1B35E1720-04BE-44D3-BE72-AD698EDAFC72.png\")\n",
    "ip = ImageJFunctions.wrap(image, \"cells\")\n",
    "ip.getProcessor().setMinAndMax(ip.getProcessor().getStatistics().min, \n",
    "                               ip.getProcessor().getStatistics().max)\n",
    "beakerx.pixels = ip.getProcessor().getPixels()\n",
    "beakerx.width = image.getWidth()\n",
    "beakerx.height = image.getHeight()\n",
    "display(Image(ip.getBufferedImage()))"
   ]
  },
  {
   "cell_type": "code",
   "execution_count": null,
   "metadata": {},
   "outputs": [],
   "source": [
    "%%groovy\n",
    "beakerx.mean = ij2.op().stats().mean(image)\n",
    "beakerx.stdDev = ij2.op().stats().stdDev(image)\n",
    "println(\"mean: \" + beakerx.mean)\n",
    "println(\"stddev: \" + beakerx.stdDev)\n",
    "OutputCell.HIDDEN"
   ]
  },
  {
   "cell_type": "markdown",
   "metadata": {},
   "source": [
    "As in the last chapter we create a profile plot from the upper left to the lower right corner. "
   ]
  },
  {
   "cell_type": "code",
   "execution_count": null,
   "metadata": {},
   "outputs": [],
   "source": [
    "%%groovy\n",
    "import net.imglib2.algorithm.region.BresenhamLine\n",
    "import net.imglib2.Point\n",
    "import net.imagej.axis.Axes\n",
    "\n",
    "line = new BresenhamLine(image.randomAccess(), \n",
    "                         new Point(0, 0), \n",
    "                         new Point(image.dimension(image.dimensionIndex(Axes.X))-1, \n",
    "                         image.dimension(image.dimensionIndex(Axes.Y))-1))\n",
    "profile = []\n",
    "line.reset()\n",
    "\n",
    "while (line.hasNext()) {\n",
    "    line.fwd();\n",
    "    profile.add(line.get().getInteger())\n",
    "}\n",
    "beakerx.profileData = profile\n",
    "OutputCell.HIDDEN"
   ]
  },
  {
   "cell_type": "markdown",
   "metadata": {},
   "source": [
    "We display the profile plot and the mean value."
   ]
  },
  {
   "cell_type": "code",
   "execution_count": null,
   "metadata": {},
   "outputs": [],
   "source": [
    "from beakerx.object import beakerx\n",
    "from beakerx import *\n",
    "import numpy as np\n",
    "intensities = np.array(beakerx.profileData, dtype='int')\n",
    "pp = Plot(title='Profile Plot', \n",
    "          xLabel=\"distance\", \n",
    "          yLabel=\"intensity\", \n",
    "          legendLayout=LegendLayout.HORIZONTAL,\n",
    "          legendPosition=LegendPosition(position=LegendPosition.Position.RIGHT),\n",
    "          omitCheckboxes=True)\n",
    "pp.add(Line(displayName=\"intensity profile of the diagonal from the upper left to the lower right corner\",  \n",
    "            y=intensities))\n",
    "pp.add(Line(displayName=\"image mean\",\n",
    "            x=[0,len(intensities)],\n",
    "            y=[beakerx.mean, beakerx.mean]))"
   ]
  },
  {
   "cell_type": "markdown",
   "metadata": {},
   "source": [
    "The standard deviation of about 18 is very high with regards to the mean of about 25. As can be seen in the image and in the profile plot, the signal is made of different parts. A low background signal, low peaks corresponding to out of focus cells and high peaks corresponding to cells in focus. Furthermore there is noise and the in focus cells have a number of bright spots.\n",
    "\n",
    "We will consider all intensity values above the mean as belonging to cells and all below as background and calculate the mean and the standard deviation for the cells and the background separatly. "
   ]
  },
  {
   "cell_type": "code",
   "execution_count": null,
   "metadata": {},
   "outputs": [],
   "source": [
    "%%groovy\n",
    "cursor = image.cursor()\n",
    "(objectMean, backgroundMean, objectCount, backgroundCount) = [0,0,0,0]\n",
    "cursor.reset()\n",
    "mean = beakerx.mean\n",
    "while(cursor.hasNext()) {\n",
    "    cursor.fwd()\n",
    "    sampleValue = cursor.get().getInteger()\n",
    "    if (sampleValue>mean) {\n",
    "        objectMean = objectMean + sampleValue\n",
    "        objectCount = objectCount + 1\n",
    "    } else {\n",
    "        backgroundMean = backgroundMean  + sampleValue\n",
    "        backgroundCount = backgroundCount + 1\n",
    "    }\n",
    "}\n",
    "objectMean = objectMean / objectCount\n",
    "backgroundMean = backgroundMean / backgroundCount\n",
    "beakerx.objectMean = objectMean\n",
    "beakerx.backgroundMean = backgroundMean\n",
    "println(\"mean in cells: \" + objectMean)\n",
    "println(\"mean in background: \" + backgroundMean)"
   ]
  },
  {
   "cell_type": "markdown",
   "metadata": {},
   "source": [
    "Now we calculate the standard deviations of the objects and the background."
   ]
  },
  {
   "cell_type": "code",
   "execution_count": null,
   "metadata": {},
   "outputs": [],
   "source": [
    "%%groovy\n",
    "cursor = image.cursor()\n",
    "(objectStddev, backgroundStddev) = [0,0]\n",
    "cursor.reset()\n",
    "mean = beakerx.mean\n",
    "while(cursor.hasNext()) {\n",
    "    cursor.fwd()\n",
    "    sampleValue = cursor.get().getInteger()\n",
    "    if (sampleValue>mean) {\n",
    "        objectStddev = objectStddev + Math.pow(sampleValue - objectMean, 2)\n",
    "    } else {\n",
    "        backgroundStddev = backgroundStddev  + Math.pow(sampleValue - backgroundMean, 2)\n",
    "    }\n",
    "}\n",
    "objectStddev = Math.sqrt(objectStddev / (objectCount - 1))\n",
    "backgroundStddev = Math.sqrt(backgroundStddev / (backgroundCount - 1))\n",
    "beakerx.objectStddev = objectStddev\n",
    "beakerx.backgroundStddev = backgroundStddev\n",
    "println(\"stddev in cells: \" + objectStddev)\n",
    "println(\"stddev in background: \" + backgroundStddev)"
   ]
  },
  {
   "cell_type": "markdown",
   "metadata": {},
   "source": [
    "We will display all the calculated values in the profile plot."
   ]
  },
  {
   "cell_type": "code",
   "execution_count": null,
   "metadata": {},
   "outputs": [],
   "source": [
    "from beakerx.object import beakerx\n",
    "from beakerx import *\n",
    "import numpy as np\n",
    "intensities = np.array(beakerx.profileData, dtype='int')\n",
    "pp = Plot(title='Profile Plot', \n",
    "          xLabel=\"distance\", \n",
    "          yLabel=\"intensity\", \n",
    "          legendLayout=LegendLayout.HORIZONTAL,\n",
    "          legendPosition=LegendPosition(position=LegendPosition.Position.RIGHT),\n",
    "          omitCheckboxes=True)\n",
    "pp.add(Line(displayName=\"intensity profile of the diagonal from the upper left to the lower right corner\",  \n",
    "            y=intensities))\n",
    "pp.add(Line(displayName=\"image mean\",\n",
    "            x=[0,len(intensities)],\n",
    "            y=[beakerx.mean, beakerx.mean]))\n",
    "pp.add(Line(displayName=\"background mean\",\n",
    "            x=[0,len(intensities)],\n",
    "            y=[beakerx.backgroundMean, beakerx.backgroundMean]))\n",
    "pp.add(Line(displayName=\"background mean + stddev\",\n",
    "            x=[0,len(intensities)],\n",
    "            y=[beakerx.backgroundMean + beakerx.backgroundStddev, beakerx.backgroundMean+beakerx.backgroundStddev], color=\"cyan\"))\n",
    "pp.add(Line(displayName=\"background mean - stddev\",\n",
    "            x=[0,len(intensities)],\n",
    "            y=[beakerx.backgroundMean - beakerx.backgroundStddev, beakerx.backgroundMean-beakerx.backgroundStddev], color=\"cyan\"))\n",
    "pp.add(Line(displayName=\"cells mean\",\n",
    "            x=[0,len(intensities)],\n",
    "            y=[beakerx.objectMean, beakerx.objectMean]))\n",
    "pp.add(Line(displayName=\"cells mean + stddev\",\n",
    "            x=[0,len(intensities)],\n",
    "            y=[beakerx.objectMean + beakerx.objectStddev, beakerx.objectMean+beakerx.objectStddev], color=\"magenta\"))\n",
    "pp.add(Line(displayName=\"cells mean - stddev\",\n",
    "            x=[0,len(intensities)],\n",
    "            y=[beakerx.objectMean - beakerx.objectStddev, beakerx.objectMean-beakerx.objectStddev], color=\"magenta\"))"
   ]
  },
  {
   "cell_type": "code",
   "execution_count": null,
   "metadata": {},
   "outputs": [],
   "source": [
    "import numpy\n",
    "from beakerx.object import beakerx\n",
    "from matplotlib import pyplot as plt\n",
    "\n",
    "imArray = numpy.array(beakerx.pixels, dtype='uint8')\n",
    "imArray = numpy.reshape(imArray, (beakerx.height, beakerx.width))\n",
    "mask1 = numpy.zeros(imArray.shape, dtype=int)\n",
    "mask1[imArray>beakerx.backgroundMean - beakerx.backgroundStddev]=32\n",
    "mask1[imArray>beakerx.backgroundMean]=64\n",
    "mask1[imArray>beakerx.backgroundMean + beakerx.backgroundStddev]=96\n",
    "mask1[imArray>beakerx.mean]=128\n",
    "mask1[imArray>beakerx.objectMean-beakerx.objectStddev]=160\n",
    "mask1[imArray>beakerx.objectMean]=192\n",
    "mask1[imArray>beakerx.objectMean+beakerx.objectStddev]=255\n",
    "plt.figure(figsize=(14, 10))\n",
    "plt.imshow(mask1, interpolation='none', cmap='CMRmap')\n",
    "plt.show()"
   ]
  },
  {
   "cell_type": "markdown",
   "metadata": {},
   "source": [
    "The above image shows where the different intensity classes \n",
    "\n",
    "* below background mean - stddev\n",
    "* below background mean\n",
    "* below background mean + stddev \n",
    "* below image mean\n",
    "* below object mean - stddev\n",
    "* below object mean\n",
    "* below objet mean + stddev\n",
    "* above objet mean + stddev\n",
    "\n",
    "are present in the image."
   ]
  },
  {
   "cell_type": "markdown",
   "metadata": {},
   "source": [
    "[Table of Contents](contents.ipynb) | Previous: [Profile plots](signal_processing_03.ipynb) | Next: [Estimation of the Signal-to-noise ratio](signal_processing_05.ipynb)"
   ]
  },
  {
   "cell_type": "code",
   "execution_count": 2,
   "metadata": {
    "init_cell": true
   },
   "outputs": [
    {
     "data": {
      "text/plain": [
       "net.imagej.ImageJ@4dd47782"
      ]
     },
     "execution_count": 2,
     "metadata": {},
     "output_type": "execute_result"
    }
   ],
   "source": [
    "%%groovy\n",
    "%classpath add jar ../Fiji.app/jars/*\n",
    "%classpath add jar ../Fiji.app/jars/bio-formats/*\n",
    "currentPath = System.getProperty(\"java.library.path\")\n",
    "newPath = currentPath + \":../Fiji.app/lib/linux64\"\n",
    "System.setProperty( \"java.library.path\", newPath )\n",
    "import net.imagej.ImageJ\n",
    "ij2 = new ImageJ()"
   ]
  }
 ],
 "metadata": {
  "celltoolbar": "Initialization Cell",
  "kernelspec": {
   "display_name": "Python 3",
   "language": "python",
   "name": "python3"
  },
  "language_info": {
   "codemirror_mode": {
    "name": "ipython",
    "version": 3
   },
   "file_extension": ".py",
   "mimetype": "text/x-python",
   "name": "python",
   "nbconvert_exporter": "python",
   "pygments_lexer": "ipython3",
   "version": "3.6.6"
  },
  "toc": {
   "base_numbering": 1,
   "nav_menu": {},
   "number_sections": false,
   "sideBar": false,
   "skip_h1_title": false,
   "title_cell": "Table of Contents",
   "title_sidebar": "Contents",
   "toc_cell": false,
   "toc_position": {},
   "toc_section_display": false,
   "toc_window_display": false
  }
 },
 "nbformat": 4,
 "nbformat_minor": 2
}
