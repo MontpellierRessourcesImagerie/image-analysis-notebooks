{
 "cells": [
  {
   "cell_type": "markdown",
   "metadata": {},
   "source": [
    "# Signal processing for bio-image analysts.\n",
    "\n",
    "## Reducing Dimensionality"
   ]
  },
  {
   "cell_type": "markdown",
   "metadata": {},
   "source": [
    "### Profile plots\n",
    "\n",
    "To create a profile plot we sample all the intensity values on a line segment from the start of the segment to the end of the segment. The x-axis of the plot represents the distance from the start point of the line-segment and the y-axis the intensity value in the image at that position.\n",
    "\n",
    "Intensity changes and the base-line intensity, that represents the background intensity in the image can be easier to see in the profile plot than in the image."
   ]
  },
  {
   "cell_type": "code",
   "execution_count": null,
   "metadata": {},
   "outputs": [],
   "source": [
    "%%groovy\n",
    "import net.imglib2.img.display.imagej.ImageJFunctions\n",
    "dapi = ij2.io().open(\"../data/CElegans-DAPI/Data-DAPI-Z072.tif\")\n",
    "ip = ImageJFunctions.wrap(dapi, \"dapi\")\n",
    "ip.getProcessor().setMinAndMax(ip.getProcessor().getStatistics().min, \n",
    "                               ip.getProcessor().getStatistics().max)\n",
    "display(Image(ip.getBufferedImage()))"
   ]
  },
  {
   "cell_type": "markdown",
   "metadata": {},
   "source": [
    "We create a line from the upper-left to the lower-right corner and sample the pixel values in the image along the line."
   ]
  },
  {
   "cell_type": "code",
   "execution_count": null,
   "metadata": {},
   "outputs": [],
   "source": [
    "%%groovy\n",
    "import net.imglib2.algorithm.region.BresenhamLine\n",
    "import net.imglib2.Point\n",
    "import net.imagej.axis.Axes\n",
    "\n",
    "line = new BresenhamLine(dapi.randomAccess(), \n",
    "                         new Point(0, 0), \n",
    "                         new Point(dapi.dimension(dapi.dimensionIndex(Axes.X))-1, \n",
    "                         dapi.dimension(dapi.dimensionIndex(Axes.Y))-1))\n",
    "profile = []\n",
    "line.reset()\n",
    "\n",
    "while (line.hasNext()) {\n",
    "    line.fwd();\n",
    "    profile.add(line.get().getInteger())\n",
    "}\n",
    "beakerx.profileData = profile\n",
    "OutputCell.HIDDEN"
   ]
  },
  {
   "cell_type": "markdown",
   "metadata": {},
   "source": [
    "We copy the profile-data from the beakerx object and display it in an interactive berkerx plot."
   ]
  },
  {
   "cell_type": "code",
   "execution_count": null,
   "metadata": {},
   "outputs": [],
   "source": [
    "from beakerx.object import beakerx\n",
    "from beakerx import *\n",
    "import numpy as np\n",
    "intensities = np.array(beakerx.profileData, dtype='int')\n",
    "pp = Plot(title='Profile Plot', \n",
    "          xLabel=\"distance\", \n",
    "          yLabel=\"intensity\", \n",
    "          legendLayout=LegendLayout.HORIZONTAL,\n",
    "          legendPosition=LegendPosition(position=LegendPosition.Position.RIGHT),\n",
    "          omitCheckboxes=True)\n",
    "pp.add(Line(displayName=\"intensity profile of the diagonal from the upper left to the lower right corner\",  \n",
    "            y=intensities))"
   ]
  },
  {
   "cell_type": "code",
   "execution_count": 1,
   "metadata": {
    "init_cell": true
   },
   "outputs": [
    {
     "name": "stdout",
     "output_type": "stream",
     "text": [
      "Groovy started successfully\n",
      "\n"
     ]
    },
    {
     "data": {
      "application/vnd.jupyter.widget-view+json": {
       "model_id": "19269157-3910-4862-a458-d1b4ca4d12a4",
       "version_major": 2,
       "version_minor": 0
      },
      "method": "display_data"
     },
     "metadata": {},
     "output_type": "display_data"
    },
    {
     "data": {
      "application/vnd.jupyter.widget-view+json": {
       "model_id": "e57b782c-6755-4341-968f-dff399889222",
       "version_major": 2,
       "version_minor": 0
      },
      "method": "display_data"
     },
     "metadata": {},
     "output_type": "display_data"
    },
    {
     "data": {
      "text/plain": [
       "net.imagej.ImageJ@4f8b2967"
      ]
     },
     "execution_count": 1,
     "metadata": {},
     "output_type": "execute_result"
    }
   ],
   "source": [
    "%%groovy\n",
    "%classpath add jar ../Fiji.app/jars/*\n",
    "%classpath add jar ../Fiji.app/jars/bio-formats/*\n",
    "currentPath = System.getProperty(\"java.library.path\")\n",
    "newPath = currentPath + \":../Fiji.app/lib/linux64\"\n",
    "System.setProperty( \"java.library.path\", newPath )\n",
    "import net.imagej.ImageJ\n",
    "ij2 = new ImageJ()"
   ]
  }
 ],
 "metadata": {
  "celltoolbar": "Initialization Cell",
  "kernelspec": {
   "display_name": "Python 3",
   "language": "python",
   "name": "python3"
  },
  "language_info": {
   "codemirror_mode": {
    "name": "ipython",
    "version": 3
   },
   "file_extension": ".py",
   "mimetype": "text/x-python",
   "name": "python",
   "nbconvert_exporter": "python",
   "pygments_lexer": "ipython3",
   "version": "3.6.6"
  },
  "toc": {
   "base_numbering": 1,
   "nav_menu": {},
   "number_sections": false,
   "sideBar": false,
   "skip_h1_title": false,
   "title_cell": "Table of Contents",
   "title_sidebar": "Contents",
   "toc_cell": false,
   "toc_position": {},
   "toc_section_display": false,
   "toc_window_display": false
  }
 },
 "nbformat": 4,
 "nbformat_minor": 2
}
