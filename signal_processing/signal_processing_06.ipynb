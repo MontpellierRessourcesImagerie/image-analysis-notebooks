{
 "cells": [
  {
   "cell_type": "markdown",
   "metadata": {},
   "source": [
    "[Table of Contents](contents.ipynb) | Previous: [Estimation of the Signal-to-noise ratio](signal_processing_05.ipynb) | Next: [Calculation of the Peak-signal-to-noise ratio](signal_processing_07.ipynb)"
   ]
  },
  {
   "cell_type": "markdown",
   "metadata": {},
   "source": [
    "# Signal processing for bio-image analysts.\n",
    "\n",
    "## Calculation of the Signal-to-noise ratio (SNR)\n",
    "\n",
    "Imagine we have the ideal noise free image $I$ and a noisy approximation of the image $\\overset{-}{I}$. In this case we can calculate the exact SNR and CV since we do exactly know what the signal and what the noise is. To calculate the power of the signal we sum up the squared intensity values of the noise free image and divide by the number of samples N. To calculate the power of the noise we calculate sum of the squared differences of the samples from the noise free and the noisy image and divide by the number of samples. This is called the *mean squared error (MSE)*. Note that the square-root of the MSE is called the *root mean squarred error (RMSE)*. Since we build the ratio of the power of the signal to the power of the noise, the number of samples is eliminated. To get the dB value we apply the $10 \\cdot \\log_{10}$ rule. \n",
    "\n",
    "$$ {\\mathit{MSE}} = \\dfrac{1}{N} \\cdot \\sum\\limits_{i=0}^{N - 1} (I_i - \\overset{-}{I_i})^2 \\quad \\text{(6.1)} $$\n",
    "\n",
    "$$ {\\mathit{SNR}} = \\dfrac {\\sum\\limits_{i=0}^{N - 1} I^2_i }{RMSE^2} = \\dfrac {\\sum\\limits_{i=0}^{N - 1} I^2_i }{MSE} = \\dfrac {\\sum\\limits_{i=0}^{N - 1} I^2_i }{\\sum\\limits_{i=0}^{N - 1} (I_i - \\overset{-}{I_i})^2} \\quad \\text{(6.2)} $$\n",
    "\n",
    "$$ {\\mathit{SNR_{dB}}} = 10 \\cdot \\log_{10}{\\dfrac {\\sum\\limits_{i=0}^{N - 1} I^2_i }{\\sum\\limits_{i=0}^{N - 1} (I_i - \\overset{-}{I_i})^2} \\text{dB} \\quad \\text{(6.3)}} $$\n",
    "\n",
    "Usually we do not have the noise free image. However when we want to evaluate the effect of noise removal methods or noiseful compression algorithms, we can use a synthetic noise free image or an image with a very low noise level and then artificially add noise to it to create a noisy version. Then we apply the algorithm to the noisy image and compare the SNR of the result with the SNR of the unchanged noisy image."
   ]
  },
  {
   "cell_type": "markdown",
   "metadata": {},
   "source": [
    "We will calculate the SNR now. We download a sample image and create different noisy versions of it. To create the noisy images we will add gaussian noise with a given standard deviation to the original image. "
   ]
  },
  {
   "cell_type": "code",
   "execution_count": null,
   "metadata": {},
   "outputs": [],
   "source": [
    "signal = ij2.io().open(\"https://imagej.nih.gov/ij/images/lena-std.tif\")"
   ]
  },
  {
   "cell_type": "code",
   "execution_count": null,
   "metadata": {},
   "outputs": [],
   "source": [
    "noisyLena = ij2.op().copy().img(ij2.op().create().img(signal), signal) \n",
    "noiseOp = ij2.op().op(\"addNoise\", noisyLena.firstElement(), 0, 255, 25)\n",
    "ij2.op().map(noisyLena, noiseOp)"
   ]
  },
  {
   "cell_type": "code",
   "execution_count": null,
   "metadata": {
    "scrolled": false
   },
   "outputs": [],
   "source": [
    "import net.imglib2.IterableInterval\n",
    "\n",
    "// Number of Samples\n",
    "samples = signal.size();\n",
    "\n",
    "// sum of the squares of the signal\n",
    "sumOfSquaresSignal = ij2.op().stats().max(ij2.op().image().squareIntegral(signal))\n",
    "\n",
    "// mean of the signal\n",
    "sumOfSignal = ij2.op().stats().max(ij2.op().image().integral(signal))\n",
    "mean = sumOfSignal.getRealDouble() / samples\n",
    "\n",
    "// sum of the squares of the noise \n",
    "floatRef = ij2.op().convert().float32(signal)\n",
    "floatNoise = ij2.op().convert().float32(noisyLena)\n",
    "diff = ij2.op().math().subtract((IterableInterval)floatRef, (IterableInterval)floatNoise)\n",
    "sqNoise = ij2.op().image().squareIntegral(diff)\n",
    "sumOfSquaresNoise = ij2.op().stats().max(sqNoise)\n",
    "\n",
    "intDen = sumOfSignal.getRealDouble();\n",
    "meanPower = sumOfSquaresSignal.getRealDouble()/samples\n",
    "MSE = sumOfSquaresNoise.getRealDouble() / samples\n",
    "RMSE = Math.sqrt(MSE)\n",
    "SNR_p = sumOfSquaresSignal.getRealDouble() / sumOfSquaresNoise.getRealDouble() \n",
    "SNR_a = mean / RMSE\n",
    "SNRdB = 10 * Math.log10(SNR_p)\n",
    "SNRdB_a = 20 * Math.log10(SNR_a)\n",
    "CV = (RMSE / mean) * 100;\n",
    "\n",
    "println(\"number of samples: \" + samples)\n",
    "println(\"integrated density: \" + intDen)\n",
    "println(\"mean of signal: \" + mean)\n",
    "println(\"Root mean square error (RMSE): \" + RMSE)\n",
    "println(\"mean power of signal: \" + meanPower)\n",
    "println(\"Mean square error (MSE): \" + MSE)\n",
    "println(\"SNR_p: \" + SNR_p)\n",
    "println(\"SNR_a: \" + SNR_a)\n",
    "println(\"SNR_p: \" + SNRdB + \"dB\" + \" (SNR_a: \"+SNRdB_a+\"dB)\" )\n",
    "println(\"CV: \" + CV + \"%\")\n",
    "OutputCell.HIDDEN"
   ]
  },
  {
   "cell_type": "markdown",
   "metadata": {},
   "source": [
    "[Table of Contents](contents.ipynb) | Previous: [Estimation of the Signal-to-noise ratio](signal_processing_05.ipynb) | Next: [Calculation of the Peak-signal-to-noise ratio](signal_processing_07.ipynb)"
   ]
  },
  {
   "cell_type": "code",
   "execution_count": 3,
   "metadata": {
    "init_cell": true
   },
   "outputs": [
    {
     "data": {
      "text/plain": [
       "net.imagej.ImageJ@1f7fb13d"
      ]
     },
     "execution_count": 3,
     "metadata": {},
     "output_type": "execute_result"
    }
   ],
   "source": [
    "%classpath add jar ../Fiji.app/jars/*\n",
    "%classpath add jar ../Fiji.app/jars/bio-formats/*\n",
    "currentPath = System.getProperty(\"java.library.path\")\n",
    "newPath = currentPath + \":../Fiji.app/lib/linux64\"\n",
    "System.setProperty( \"java.library.path\", newPath )\n",
    "import net.imagej.ImageJ\n",
    "ij2 = new ImageJ()"
   ]
  }
 ],
 "metadata": {
  "celltoolbar": "Initialization Cell",
  "kernelspec": {
   "display_name": "Groovy",
   "language": "groovy",
   "name": "groovy"
  },
  "language_info": {
   "codemirror_mode": "groovy",
   "file_extension": ".groovy",
   "mimetype": "",
   "name": "Groovy",
   "nbconverter_exporter": "",
   "version": "2.4.3"
  },
  "toc": {
   "base_numbering": 1,
   "nav_menu": {},
   "number_sections": false,
   "sideBar": false,
   "skip_h1_title": false,
   "title_cell": "Table of Contents",
   "title_sidebar": "Contents",
   "toc_cell": false,
   "toc_position": {},
   "toc_section_display": false,
   "toc_window_display": false
  }
 },
 "nbformat": 4,
 "nbformat_minor": 2
}
