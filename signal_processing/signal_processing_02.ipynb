{
 "cells": [
  {
   "cell_type": "markdown",
   "metadata": {},
   "source": [
    "[Table of Contents](contents.ipynb) | Previous: [Introduction](signal_processing_01.ipynb) | Next: [Profile Plots](signal_processing_03.ipynb)"
   ]
  },
  {
   "cell_type": "markdown",
   "metadata": {},
   "source": [
    "# Signal processing for bio-image analysts.\n",
    "\n",
    "## Reducing Dimensionality\n",
    "\n",
    "Images are signals with at least 2 spatial dimensions. Signals with a high number of dimensions are more difficult to explore and understand. Therefore we will sometimes reduce the number of dimensions, by only looking at a part of the whole input image. 3D images can be reduced to 2 dimensions by using projections. We can obtain a 1 dimensional signal from a 3D or 2D image by using a profile plot."
   ]
  },
  {
   "cell_type": "markdown",
   "metadata": {},
   "source": [
    "### Projection of a 3D image\n",
    "\n",
    "To do a z-projection of an image we will apply a function on all the z-values for each x,y-position of the image. In a similar way we can do an x-projection or a y-proyection. Funtions often used are the maximum, the minimum, the average, the median and the standard deviation. "
   ]
  },
  {
   "cell_type": "markdown",
   "metadata": {},
   "source": [
    "First we load the example image and attach its dimensions and its pixel array to the beakerx object, since we want to make a 3D-rendering with ipyvolume from python."
   ]
  },
  {
   "cell_type": "code",
   "execution_count": null,
   "metadata": {},
   "outputs": [],
   "source": [
    "%%groovy\n",
    "import net.imglib2.img.display.imagej.ImageJFunctions\n",
    "import net.imglib2.img.display.imagej.ImageJVirtualStack\n",
    "microtubules = ij2.io().open(\"../data/microtubules/ground-truth.tif\")\n",
    "ip = ImageJFunctions.wrapFloat(microtubules, \"microtubules-gt\")\n",
    "beakerx.width = ip.getWidth()\n",
    "beakerx.height = ip.getHeight()\n",
    "beakerx.slices = ip.getImageStack().getSize()\n",
    "pixels = new float[beakerx.width*beakerx.height*beakerx.slices]\n",
    "pixels = ip.getImageStack().duplicate().getVoxels(0,0,0,beakerx.width,beakerx.height,beakerx.slices,pixels);\n",
    "beakerx.pixels = pixels\n",
    "println(beakerx.width+\", \"+beakerx.height+\", \"+beakerx.slices)\n",
    "OutputCell.HIDDEN"
   ]
  },
  {
   "cell_type": "markdown",
   "metadata": {},
   "source": [
    "In order to make the 3D-rendereing we get the pixel-data and the dimensions from the beaker object. We reshape the image array and divide all pixel values by the maximum, so that we end up with values between zero and one. Note that the data is displayed with a color-map. The original image contains only brightness values in the form of floating point numbers."
   ]
  },
  {
   "cell_type": "code",
   "execution_count": null,
   "metadata": {},
   "outputs": [],
   "source": [
    "import ipyvolume\n",
    "import numpy as np\n",
    "from beakerx.object import beakerx\n",
    "imArray = np.array(beakerx.pixels, dtype='float')\n",
    "imArray = np.reshape(imArray, (beakerx.slices, beakerx.height, beakerx.width)) \n",
    "imArray = imArray / float(np.amax(imArray))\n",
    "ipyvolume.style.axes_off()\n",
    "ipyvolume.style.box_off()\n",
    "ipyvolume.volshow(imArray)\n",
    "ipyvolume.show()"
   ]
  },
  {
   "cell_type": "markdown",
   "metadata": {},
   "source": [
    "Now we create the x, y and z-projections using the maximum-function. Other available functions are:\n",
    "\n",
    "1. IterableGeometricMean\n",
    "1. IterableHarmonicMean\n",
    "1. IterableMax\n",
    "1. IterableMean\n",
    "1. IterableMin\n",
    "1. IterableStandardDeviation\n",
    "1. IterableVariance"
   ]
  },
  {
   "cell_type": "code",
   "execution_count": null,
   "metadata": {},
   "outputs": [],
   "source": [
    "%%groovy\n",
    "import net.imglib2.img.display.imagej.ImageJFunctions\n",
    "import net.imagej.axis.Axes\n",
    "\n",
    "projectionOp = net.imagej.ops.stats.IterableMax\n",
    "proj_op = ij2.op().op(projectionOp, microtubules)\n",
    "\n",
    "title = \"projection of microtubules-gt\"\n",
    "(axes, names) = [[Axes.X, Axes.Y, Axes.Z],[\"x\", \"y\", \"z\"]]\n",
    "(dims, projectedImages, outputs, ips) = [[microtubules.dimensionIndex(Axes.X), microtubules.dimensionIndex(Axes.Y), microtubules.dimensionIndex(Axes.Z)],[],[],[]]\n",
    "i = 0;\n",
    "for(axe in axes) {\n",
    "    (otherDimIndex1, otherDimIndex2) = [(int)Math.floor((2 - i) / 2), (int)Math.floor((5 - i) / 2)]\n",
    "    projectedImages.add(ij2.op().create().img(microtubules.dimension(dims[otherDimIndex1]), microtubules.dimension(dims[otherDimIndex2])))\n",
    "    projectedImages[i] = ij2.op().transform().project(projectedImages[i], microtubules, proj_op, dims[i])\n",
    "    outputs.add(ij2.dataset().create(projectedImages[i]))\n",
    "    ips.add(ImageJFunctions.wrap(outputs[i], names[i] + \"-\" + title))\n",
    "    ips[i].getProcessor().setMinAndMax(ips[i].getProcessor().getStatistics().min, ips[i].getProcessor().getStatistics().max)\n",
    "    println(names[i] + \"-\" + title)\n",
    "    display(Image(ips[i].getBufferedImage()))\n",
    "    i++;\n",
    "}"
   ]
  },
  {
   "cell_type": "markdown",
   "metadata": {},
   "source": [
    "[Table of Contents](contents.ipynb) | Previous: [Introduction](signal_processing_01.ipynb) | Next: [Profile Plots](signal_processing_03.ipynb)"
   ]
  },
  {
   "cell_type": "code",
   "execution_count": 2,
   "metadata": {
    "init_cell": true
   },
   "outputs": [
    {
     "data": {
      "text/plain": [
       "net.imagej.ImageJ@69a80dbb"
      ]
     },
     "execution_count": 2,
     "metadata": {},
     "output_type": "execute_result"
    }
   ],
   "source": [
    "%%groovy\n",
    "%classpath add jar ../Fiji.app/jars/*\n",
    "%classpath add jar ../Fiji.app/jars/bio-formats/*\n",
    "currentPath = System.getProperty(\"java.library.path\")\n",
    "newPath = currentPath + \":../Fiji.app/lib/linux64\"\n",
    "System.setProperty( \"java.library.path\", newPath )\n",
    "import net.imagej.ImageJ\n",
    "ij2 = new ImageJ()"
   ]
  }
 ],
 "metadata": {
  "celltoolbar": "Initialization Cell",
  "kernelspec": {
   "display_name": "Python 3",
   "language": "python",
   "name": "python3"
  },
  "language_info": {
   "codemirror_mode": {
    "name": "ipython",
    "version": 3
   },
   "file_extension": ".py",
   "mimetype": "text/x-python",
   "name": "python",
   "nbconvert_exporter": "python",
   "pygments_lexer": "ipython3",
   "version": "3.6.6"
  },
  "toc": {
   "base_numbering": 1,
   "nav_menu": {
    "height": "59px",
    "width": "314px"
   },
   "number_sections": false,
   "sideBar": false,
   "skip_h1_title": false,
   "title_cell": "Table of Contents",
   "title_sidebar": "Contents",
   "toc_cell": false,
   "toc_position": {},
   "toc_section_display": false,
   "toc_window_display": false
  }
 },
 "nbformat": 4,
 "nbformat_minor": 2
}
