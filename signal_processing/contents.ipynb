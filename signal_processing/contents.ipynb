{
 "cells": [
  {
   "cell_type": "markdown",
   "metadata": {},
   "source": [
    "# Signal processing for bio-image analysts.\n",
    "\n",
    "## Table of Contents\n",
    "\n",
    "\n",
    "1. [Introduction](signal_processing_01.ipynb)\n",
    "1. [Reducing Dimensonality 1 - Projections](signal_processing_02.ipynb)\n",
    "1. [Reducing Dimensonality 2 - Profile Plots](signal_processing_03.ipynb)\n",
    "1. [Mean and standard deviation](signal_processing_04.ipynb)\n",
    "1. [Estimation of the Signal-to-noise ratio](signal_processing_05.ipynb)\n",
    "1. [Calculation of the Signal-to-noise ratio](signal_processing_06.ipynb)\n",
    "1. [Calculation of the Peak-signal-to-noise ratio](signal_processing_07.ipynb)\n",
    "1. [Plots of SNR with fixed signal power or fixed noise power](signal_processing_08.ipynb)"
   ]
  }
 ],
 "metadata": {
  "kernelspec": {
   "display_name": "Groovy",
   "language": "groovy",
   "name": "groovy"
  },
  "language_info": {
   "codemirror_mode": "groovy",
   "file_extension": ".groovy",
   "mimetype": "",
   "name": "Groovy",
   "nbconverter_exporter": "",
   "version": "2.4.3"
  },
  "toc": {
   "base_numbering": 1,
   "nav_menu": {},
   "number_sections": false,
   "sideBar": false,
   "skip_h1_title": false,
   "title_cell": "Table of Contents",
   "title_sidebar": "Contents",
   "toc_cell": false,
   "toc_position": {
    "height": "100px",
    "left": "10px",
    "top": "150px",
    "width": "165px"
   },
   "toc_section_display": false,
   "toc_window_display": false
  }
 },
 "nbformat": 4,
 "nbformat_minor": 2
}
