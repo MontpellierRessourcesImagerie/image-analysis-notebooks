{
 "cells": [
  {
   "cell_type": "markdown",
   "metadata": {},
   "source": [
    "[Table of Contents](contents.ipynb) | Previous: [Introduction](signal_processing_01.ipynb) | Next:"
   ]
  },
  {
   "cell_type": "markdown",
   "metadata": {},
   "source": [
    "# Signal processing for bio-image analysts.\n",
    "\n",
    "## Reducing Dimensionality\n",
    "\n",
    "Images are signals with at least 2 spatial dimensions. Signals with a high number of dimensions are more difficult to explore and understand. Therefore we will sometimes reduce the number of dimensions, by only looking at a part of the whole input image. 3D images can be reduced to 2 dimensions by using projections. We can obtain a 1 dimensional signal from a 3D or 2D image by using a profile plot."
   ]
  },
  {
   "cell_type": "markdown",
   "metadata": {},
   "source": [
    "## Projection of a 3D image\n",
    "\n"
   ]
  },
  {
   "cell_type": "code",
   "execution_count": 3,
   "metadata": {},
   "outputs": [
    {
     "data": {
      "application/vnd.jupyter.widget-view+json": {
       "model_id": "54ec14c0-1771-47d8-8fc9-a352846ee9a3",
       "version_major": 2,
       "version_minor": 0
      },
      "method": "display_data"
     },
     "metadata": {},
     "output_type": "display_data"
    },
    {
     "name": "stdout",
     "output_type": "stream",
     "text": [
      "16777216\n",
      "16777216\n",
      "512, 256, 128\n",
      "ipyvolume.Figure@445cae5a\n"
     ]
    },
    {
     "data": {
      "application/vnd.jupyter.widget-view+json": {
       "model_id": "186dc033-775f-4284-9ae4-823a73a261a8",
       "version_major": 2,
       "version_minor": 0
      },
      "method": "display_data"
     },
     "metadata": {},
     "output_type": "display_data"
    },
    {
     "data": {
      "application/vnd.jupyter.widget-view+json": {
       "model_id": "e56f1045-5a4e-4808-8e3a-e05bd71dd8e9",
       "version_major": 2,
       "version_minor": 0
      },
      "method": "display_data"
     },
     "metadata": {},
     "output_type": "display_data"
    },
    {
     "data": {
      "text/plain": [
       "null"
      ]
     },
     "execution_count": 2,
     "metadata": {},
     "output_type": "execute_result"
    }
   ],
   "source": [
    "%%groovy\n",
    "%classpath add mvn com.github.twosigma ipyvolume master-SNAPSHOT\n",
    "import ipyvolume.PyLab\n",
    "import net.imglib2.img.display.imagej.ImageJFunctions\n",
    "import net.imglib2.img.display.imagej.ImageJVirtualStack\n",
    "microtubules = ij2.io().open(\"../data/microtubules/ground-truth.tif\")\n",
    "ip = ImageJFunctions.wrapFloat(microtubules, \"microtubules-gt\")\n",
    "width = ip.getWidth()\n",
    "height = ip.getHeight()\n",
    "slices = ip.getImageStack().getSize()\n",
    "pixels = new float[width*height*slices]\n",
    "pixels = ip.getImageStack().duplicate().getVoxels(0,0,0,width,height,slices,pixels);\n",
    "println(pixels.size())\n",
    "println(width*height*slices)\n",
    "println(width+\", \"+height+\", \"+slices)\n",
    "float[][][] data = new float[slices][height][width];\n",
    "for (int x = 0 ; x < width ; x++) {\n",
    "    for (int y = 0 ; y < height ; y++) {\n",
    "        for (int z = 0 ; z < slices ; z++) {\n",
    "           data[z][y][x] = pixels[width*height*z + height*y + x].floatValue()/11817;\n",
    "        }\n",
    "    }\n",
    "}\n",
    "fg = PyLab.volShow(data)\n",
    "fg.width = 300\n",
    "fg.height = 200\n",
    "println(fg)\n",
    "PyLab.show(fg)"
   ]
  },
  {
   "cell_type": "code",
   "execution_count": 7,
   "metadata": {},
   "outputs": [
    {
     "data": {
      "application/vnd.jupyter.widget-view+json": {
       "model_id": "b00699e5-5134-429d-be79-bc3b6de91d22",
       "version_major": 2,
       "version_minor": 0
      },
      "method": "display_data"
     },
     "metadata": {},
     "output_type": "display_data"
    },
    {
     "name": "stdout",
     "output_type": "stream",
     "text": [
      "16777216\n",
      "16777216\n",
      "512, 256, 128\n",
      "16777216\n"
     ]
    },
    {
     "data": {
      "text/plain": [
       "null"
      ]
     },
     "execution_count": 6,
     "metadata": {},
     "output_type": "execute_result"
    }
   ],
   "source": [
    "%%groovy\n",
    "%classpath add mvn com.github.twosigma ipyvolume master-SNAPSHOT\n",
    "import ipyvolume.PyLab\n",
    "import net.imglib2.img.display.imagej.ImageJFunctions\n",
    "import net.imglib2.img.display.imagej.ImageJVirtualStack\n",
    "microtubules = ij2.io().open(\"../data/microtubules/ground-truth.tif\")\n",
    "ip = ImageJFunctions.wrapFloat(microtubules, \"microtubules-gt\")\n",
    "beakerx.width = ip.getWidth()\n",
    "beakerx.height = ip.getHeight()\n",
    "beakerx.slices = ip.getImageStack().getSize()\n",
    "pixels = new float[width*height*slices]\n",
    "pixels = ip.getImageStack().duplicate().getVoxels(0,0,0,width,height,slices,pixels);\n",
    "println(width+\", \"+height+\", \"+slices)\n",
    "beakerx.pixels = pixels\n",
    "println(pixels.size())"
   ]
  },
  {
   "cell_type": "code",
   "execution_count": 13,
   "metadata": {},
   "outputs": [
    {
     "ename": "ValueError",
     "evalue": "cannot reshape array of size 16777216 into shape (256,512)",
     "output_type": "error",
     "traceback": [
      "\u001b[0;31m---------------------------------------------------------------------------\u001b[0m",
      "\u001b[0;31mValueError\u001b[0m                                Traceback (most recent call last)",
      "\u001b[0;32m<ipython-input-13-b26799d0820c>\u001b[0m in \u001b[0;36m<module>\u001b[0;34m\u001b[0m\n\u001b[1;32m      3\u001b[0m \u001b[0;32mfrom\u001b[0m \u001b[0mbeakerx\u001b[0m\u001b[0;34m.\u001b[0m\u001b[0mobject\u001b[0m \u001b[0;32mimport\u001b[0m \u001b[0mbeakerx\u001b[0m\u001b[0;34m\u001b[0m\u001b[0m\n\u001b[1;32m      4\u001b[0m \u001b[0mimArray\u001b[0m \u001b[0;34m=\u001b[0m \u001b[0mnp\u001b[0m\u001b[0;34m.\u001b[0m\u001b[0marray\u001b[0m\u001b[0;34m(\u001b[0m\u001b[0mbeakerx\u001b[0m\u001b[0;34m.\u001b[0m\u001b[0mpixels\u001b[0m\u001b[0;34m,\u001b[0m \u001b[0mdtype\u001b[0m\u001b[0;34m=\u001b[0m\u001b[0;34m'float'\u001b[0m\u001b[0;34m)\u001b[0m\u001b[0;34m\u001b[0m\u001b[0m\n\u001b[0;32m----> 5\u001b[0;31m \u001b[0mimArray\u001b[0m \u001b[0;34m=\u001b[0m \u001b[0mnp\u001b[0m\u001b[0;34m.\u001b[0m\u001b[0mreshape\u001b[0m\u001b[0;34m(\u001b[0m\u001b[0mimArray\u001b[0m\u001b[0;34m,\u001b[0m \u001b[0;34m(\u001b[0m\u001b[0mbeakerx\u001b[0m\u001b[0;34m.\u001b[0m\u001b[0mheight\u001b[0m\u001b[0;34m,\u001b[0m \u001b[0mbeakerx\u001b[0m\u001b[0;34m.\u001b[0m\u001b[0mwidth\u001b[0m\u001b[0;34m)\u001b[0m\u001b[0;34m)\u001b[0m\u001b[0;34m\u001b[0m\u001b[0m\n\u001b[0m\u001b[1;32m      6\u001b[0m \u001b[0mipyvolume\u001b[0m\u001b[0;34m.\u001b[0m\u001b[0mvolShow\u001b[0m\u001b[0;34m(\u001b[0m\u001b[0mdata\u001b[0m\u001b[0;34m)\u001b[0m\u001b[0;34m\u001b[0m\u001b[0m\n",
      "\u001b[0;32m~/anaconda3/envs/beaker/lib/python3.6/site-packages/numpy/core/fromnumeric.py\u001b[0m in \u001b[0;36mreshape\u001b[0;34m(a, newshape, order)\u001b[0m\n\u001b[1;32m    277\u001b[0m            [5, 6]])\n\u001b[1;32m    278\u001b[0m     \"\"\"\n\u001b[0;32m--> 279\u001b[0;31m     \u001b[0;32mreturn\u001b[0m \u001b[0m_wrapfunc\u001b[0m\u001b[0;34m(\u001b[0m\u001b[0ma\u001b[0m\u001b[0;34m,\u001b[0m \u001b[0;34m'reshape'\u001b[0m\u001b[0;34m,\u001b[0m \u001b[0mnewshape\u001b[0m\u001b[0;34m,\u001b[0m \u001b[0morder\u001b[0m\u001b[0;34m=\u001b[0m\u001b[0morder\u001b[0m\u001b[0;34m)\u001b[0m\u001b[0;34m\u001b[0m\u001b[0m\n\u001b[0m\u001b[1;32m    280\u001b[0m \u001b[0;34m\u001b[0m\u001b[0m\n\u001b[1;32m    281\u001b[0m \u001b[0;34m\u001b[0m\u001b[0m\n",
      "\u001b[0;32m~/anaconda3/envs/beaker/lib/python3.6/site-packages/numpy/core/fromnumeric.py\u001b[0m in \u001b[0;36m_wrapfunc\u001b[0;34m(obj, method, *args, **kwds)\u001b[0m\n\u001b[1;32m     49\u001b[0m \u001b[0;32mdef\u001b[0m \u001b[0m_wrapfunc\u001b[0m\u001b[0;34m(\u001b[0m\u001b[0mobj\u001b[0m\u001b[0;34m,\u001b[0m \u001b[0mmethod\u001b[0m\u001b[0;34m,\u001b[0m \u001b[0;34m*\u001b[0m\u001b[0margs\u001b[0m\u001b[0;34m,\u001b[0m \u001b[0;34m**\u001b[0m\u001b[0mkwds\u001b[0m\u001b[0;34m)\u001b[0m\u001b[0;34m:\u001b[0m\u001b[0;34m\u001b[0m\u001b[0m\n\u001b[1;32m     50\u001b[0m     \u001b[0;32mtry\u001b[0m\u001b[0;34m:\u001b[0m\u001b[0;34m\u001b[0m\u001b[0m\n\u001b[0;32m---> 51\u001b[0;31m         \u001b[0;32mreturn\u001b[0m \u001b[0mgetattr\u001b[0m\u001b[0;34m(\u001b[0m\u001b[0mobj\u001b[0m\u001b[0;34m,\u001b[0m \u001b[0mmethod\u001b[0m\u001b[0;34m)\u001b[0m\u001b[0;34m(\u001b[0m\u001b[0;34m*\u001b[0m\u001b[0margs\u001b[0m\u001b[0;34m,\u001b[0m \u001b[0;34m**\u001b[0m\u001b[0mkwds\u001b[0m\u001b[0;34m)\u001b[0m\u001b[0;34m\u001b[0m\u001b[0m\n\u001b[0m\u001b[1;32m     52\u001b[0m \u001b[0;34m\u001b[0m\u001b[0m\n\u001b[1;32m     53\u001b[0m     \u001b[0;31m# An AttributeError occurs if the object does not have\u001b[0m\u001b[0;34m\u001b[0m\u001b[0;34m\u001b[0m\u001b[0m\n",
      "\u001b[0;31mValueError\u001b[0m: cannot reshape array of size 16777216 into shape (256,512)"
     ]
    }
   ],
   "source": [
    "import ipyvolume\n",
    "import numpy as np\n",
    "from beakerx.object import beakerx\n",
    "imArray = np.array(beakerx.pixels, dtype='float')\n",
    "imArray = np.reshape(imArray, (beakerx.slices, beakerx.height, beakerx.width)) \n",
    "ipyvolume.volShow(data)"
   ]
  },
  {
   "cell_type": "code",
   "execution_count": 3,
   "metadata": {},
   "outputs": [
    {
     "data": {
      "application/vnd.jupyter.widget-view+json": {
       "model_id": "81a27453-ac70-437b-901d-d8bb299d8a40",
       "version_major": 2,
       "version_minor": 0
      },
      "method": "display_data"
     },
     "metadata": {},
     "output_type": "display_data"
    },
    {
     "data": {
      "text/plain": [
       "null"
      ]
     },
     "execution_count": 3,
     "metadata": {},
     "output_type": "execute_result"
    }
   ],
   "source": [
    "import ipyvolume.PyLab;\n",
    "\n",
    "int size = 32;\n",
    "int radius = 12;\n",
    "float[][][] data = new float[size][size][size];\n",
    "for (int x = 0; x<size; x++){\n",
    "    for (int y = 0; y<size; y++){\n",
    "        for (int z = 0; z<size; z++){\n",
    "            if (Math.pow(x - size/2, 2) + Math.pow(y - size/2, 2) + Math.pow(z - size/2, 2) <= Math.pow(radius, 2)){\n",
    "                data[x][y][z] = 1.0f;\n",
    "            }\n",
    "        }\n",
    "    }\n",
    "}\n",
    "\n",
    "figure = PyLab.volShow(data)\n",
    "figure.width = 200\n",
    "figure.height= 200\n",
    "PyLab.show()"
   ]
  },
  {
   "cell_type": "code",
   "execution_count": 4,
   "metadata": {},
   "outputs": [
    {
     "data": {
      "image/png": "[encoded data removed]"
     },
     "execution_count": 4,
     "metadata": {},
     "output_type": "execute_result"
    }
   ],
   "source": [
    "import net.imglib2.img.display.imagej.ImageJFunctions\n",
    "import net.imagej.axis.Axes\n",
    "\n",
    "image = ij2.io().open(\"../data/microtubules/ground-truth.tif\")\n",
    "dimX = image.dimensionIndex(Axes.X)\n",
    "dimY = image.dimensionIndex(Axes.Y)\n",
    "dimZ = image.dimensionIndex(Axes.Z)\n",
    "projected = ij2.op().create().img(image.dimension(dimX), image.dimension(dimY))\n",
    "proj_op =  ij2.op().op(net.imagej.ops.stats.IterableMax, image)\n",
    "ij2.op().transform().project(projected, image, proj_op, dimZ)\n",
    "output = ij2.dataset().create(projected)\n",
    "\n",
    "ip = ImageJFunctions.wrap(output, \"microtubules-gt\")\n",
    "ip.getProcessor().setMinAndMax(ip.getProcessor().getStatistics().min, ip.getStatistics().max)\n",
    "Image(ip.getBufferedImage())"
   ]
  },
  {
   "cell_type": "markdown",
   "metadata": {},
   "source": [
    "[Table of Contents](contents.ipynb) | Previous: [Introduction](signal_processing_01.ipynb) | Next:"
   ]
  },
  {
   "cell_type": "code",
   "execution_count": 1,
   "metadata": {
    "init_cell": true
   },
   "outputs": [
    {
     "name": "stdout",
     "output_type": "stream",
     "text": [
      "Groovy started successfully\n",
      "\n"
     ]
    },
    {
     "data": {
      "application/vnd.jupyter.widget-view+json": {
       "model_id": "5b324c20-a0d2-456a-80e0-a49f26887282",
       "version_major": 2,
       "version_minor": 0
      },
      "method": "display_data"
     },
     "metadata": {},
     "output_type": "display_data"
    },
    {
     "data": {
      "application/vnd.jupyter.widget-view+json": {
       "model_id": "b3e7ebdf-3cf3-46f9-b18c-daccf4b4511b",
       "version_major": 2,
       "version_minor": 0
      },
      "method": "display_data"
     },
     "metadata": {},
     "output_type": "display_data"
    },
    {
     "data": {
      "application/vnd.jupyter.widget-view+json": {
       "model_id": "24737f5b-f43a-4805-b304-c4324e01b0ae",
       "version_major": 2,
       "version_minor": 0
      },
      "method": "display_data"
     },
     "metadata": {},
     "output_type": "display_data"
    },
    {
     "data": {
      "application/vnd.jupyter.widget-view+json": {
       "model_id": "68c08732-5aab-4611-bb60-9c1b1464aedc",
       "version_major": 2,
       "version_minor": 0
      },
      "method": "display_data"
     },
     "metadata": {},
     "output_type": "display_data"
    },
    {
     "data": {
      "text/plain": [
       "net.imagej.ImageJ@662b05c6"
      ]
     },
     "execution_count": 1,
     "metadata": {},
     "output_type": "execute_result"
    }
   ],
   "source": [
    "%%groovy\n",
    "%classpath add jar ../Fiji.app/jars/*\n",
    "%classpath add jar ../Fiji.app/jars/bio-formats/*\n",
    "%classpath add mvn com.github.twosigma ipyvolume master-SNAPSHOT\n",
    "currentPath = System.getProperty(\"java.library.path\")\n",
    "newPath = currentPath + \":../Fiji.app/lib/linux64\"\n",
    "System.setProperty( \"java.library.path\", newPath )\n",
    "import net.imagej.ImageJ\n",
    "ij2 = new ImageJ()\n",
    "beakerx.ij2 = ij2"
   ]
  },
  {
   "cell_type": "code",
   "execution_count": null,
   "metadata": {},
   "outputs": [],
   "source": []
  }
 ],
 "metadata": {
  "celltoolbar": "Initialization Cell",
  "kernelspec": {
   "display_name": "Python 3",
   "language": "python",
   "name": "python3"
  },
  "language_info": {
   "codemirror_mode": {
    "name": "ipython",
    "version": 3
   },
   "file_extension": ".py",
   "mimetype": "text/x-python",
   "name": "python",
   "nbconvert_exporter": "python",
   "pygments_lexer": "ipython3",
   "version": "3.6.6"
  },
  "toc": {
   "base_numbering": 1,
   "nav_menu": {
    "height": "59px",
    "width": "314px"
   },
   "number_sections": false,
   "sideBar": false,
   "skip_h1_title": false,
   "title_cell": "Table of Contents",
   "title_sidebar": "Contents",
   "toc_cell": false,
   "toc_position": {},
   "toc_section_display": false,
   "toc_window_display": false
  }
 },
 "nbformat": 4,
 "nbformat_minor": 2
}
