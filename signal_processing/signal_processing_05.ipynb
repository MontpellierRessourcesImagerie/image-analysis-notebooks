{
 "cells": [
  {
   "cell_type": "markdown",
   "metadata": {},
   "source": [
    "# Signal processing for bio-image analysts.\n",
    "\n",
    "## Estimation of the Signal-to-noise ratio (SNR)\n"
   ]
  },
  {
   "cell_type": "markdown",
   "metadata": {},
   "source": [
    "If the mean is the mean of the signal we are interested in and the standard deviation is the standard deviation of the noise then the ratio of the mean and the standard deviation describes how much the signal stands out from the noise. In signal processing the *signal to noise ratio (SNR)* is defined as the ratio of the power of the signal to the power of the noise. In image analysis the ratio of the signal's mean to the standard deviation of the background is often used as an estimation of the SNR. \n",
    "\n",
    "$$ \\overset{-}{\\mathit{SNR_a}} = \\dfrac{\\mu_{sig}}{\\sigma_{bg}} \\quad \\text{(5.1)} $$ \n",
    "\n",
    "In signal processing the SNR is often expressed in decibel. One bel, named after Alexander Graham Bell, is the logarithm to the basis 10 of the ratio of the two values. 10 bel are one decibel [db]. However when we talk about the amplitude (for example electical tension or current) instead of the power the factor 20 is used instead of the factor 10. This is because the power is proportional to the square of the amplitude and $\\log_{10}{{x}^{a}} = a \\cdot \\log_{10}{x}$.\n",
    "\n",
    "$$ \\overset{-}{\\mathit{SNR_{dB}}} = 20 \\cdot \\log_{10}{\\dfrac{\\mu_{sig}}{\\sigma_{bg}}} \\text{dB} \\quad \\text{(5.2)}$$\n",
    "\n",
    "Instead of eq. 5.1 the square of the mean and standard deviation are sometimes used. In this case a factor of ten is used in the calculation of the SNR in dB. As a result the dB values will be equal while the ratio values are different.\n",
    "\n",
    "$$ \\overset{-}{\\mathit{SNR_p}} = \\dfrac{\\mu_{sig}^2}{\\sigma_{bg}^2} \\quad \\text{(5.3)} $$ \n",
    "\n",
    "$$ \\overset{-}{\\mathit{SNR_{dB}}} = 10 \\cdot \\log_{10}{\\dfrac{\\mu_{sig}^2}{\\sigma_{bg}^2}} \\text{dB} = 20 \\cdot \\log_{10}{\\dfrac{\\mu_{sig}}{\\sigma_{bg}}} \\text{dB} \\quad \\text{(5.4)}$$\n",
    "\n"
   ]
  },
  {
   "cell_type": "markdown",
   "metadata": {},
   "source": [
    "### Estimation of the Coefficient of variation (CV)\n",
    "\n",
    "Another way to describe how the signal stands out from the noise is the *coefficient of correlation (CV)*. It is just the inverse of the SNR and if expresed in percent multiplied by 100. So it holds the same information as the SNR but expresses relative standard deviation. \n",
    "\n",
    "$$ \\overset{-}{\\mathit{CV_a}} = \\dfrac{\\sigma_{bg}}{\\mu_{sig}} \\cdot 100 = \\dfrac{1}{\\mathit{SNR_a}} \\cdot 100  \\quad \\text{(5.5)}$$\n",
    "\n",
    "$$ \\overset{-}{\\mathit{CV_p}} = \\dfrac{\\sigma_{bg}^2}{\\mu_{sig}^2} \\cdot 100 = \\dfrac{1}{\\mathit{SNR_p}} \\cdot 100 \\quad \\text{(5.6)}$$"
   ]
  },
  {
   "cell_type": "markdown",
   "metadata": {},
   "source": [
    "### Problems with the estimation of the SNR and the CV in image analysis\n",
    "\n",
    "Although the SNR and CV appear to be interesting metrics concerning the quality of images, there usage in practice to compare unrelated images is difficult. However they are frequently used to compare the effects of manipulations on one image, as for example noise removal or jpg-compression. \n",
    "\n",
    "Here are some of the points that make it difficult to use the SNR and CV:\n",
    "\n",
    "1. Since we usually do not have a noiseless version of the signal we can only estimate the SNR or CV.\n",
    "1. Different definitions and measurement schemes are used.\n",
    "1. In microscopy images the signal itself usually has a variance and we must decide what to include into the mean\n",
    "1. Also the background has a variance from other sources as noise that we might or might not want to include into the standard deviation\n",
    "1. If we use the background standard deviation we assume that the noise in the signal is the same as in the background. This is only the case for additive, Gaussian noise, however for example in confocal microscopy we have Poisson noise which depends on the intensity\n",
    "\n"
   ]
  }
 ],
 "metadata": {
  "celltoolbar": "Initialization Cell",
  "kernelspec": {
   "display_name": "Python 3",
   "language": "python",
   "name": "python3"
  },
  "language_info": {
   "codemirror_mode": {
    "name": "ipython",
    "version": 3
   },
   "file_extension": ".py",
   "mimetype": "text/x-python",
   "name": "python",
   "nbconvert_exporter": "python",
   "pygments_lexer": "ipython3",
   "version": "3.6.6"
  },
  "toc": {
   "base_numbering": 1,
   "nav_menu": {},
   "number_sections": false,
   "sideBar": false,
   "skip_h1_title": false,
   "title_cell": "Table of Contents",
   "title_sidebar": "Contents",
   "toc_cell": false,
   "toc_position": {},
   "toc_section_display": false,
   "toc_window_display": false
  }
 },
 "nbformat": 4,
 "nbformat_minor": 2
}
